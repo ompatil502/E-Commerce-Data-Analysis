{
 "cells": [
  {
   "cell_type": "markdown",
   "metadata": {},
   "source": [
    "# QUESTION NO. 4\n",
    "#  ML-MINOR-APRIL\n",
    "#  Name = Om Patil\n",
    "#  Batch = Verzeo April ML"
   ]
  },
  {
   "cell_type": "code",
   "execution_count": 7,
   "metadata": {},
   "outputs": [],
   "source": [
    "import pandas as pd"
   ]
  },
  {
   "cell_type": "code",
   "execution_count": 8,
   "metadata": {},
   "outputs": [],
   "source": [
    "data=pd.read_csv(\"F:\\\\ml\\\\verzeo minor\\\\minor.csv\",encoding=('ISO-8859-1'))"
   ]
  },
  {
   "cell_type": "code",
   "execution_count": 20,
   "metadata": {},
   "outputs": [
    {
     "data": {
      "text/plain": [
       "Perfect Fitness Perfect Rip Deck                 24515\n",
       "Nike Men's CJ Elite 2 TD Football Cleat          22246\n",
       "Nike Men's Dri-FIT Victory Golf Polo             21035\n",
       "O'Brien Men's Neoprene Life Vest                 19298\n",
       "Field & Stream Sportsman 16 Gun Fire Safe        17325\n",
       "                                                 ...  \n",
       "Stiga Master Series ST3100 Competition Indoor       27\n",
       "SOLE E35 Elliptical                                 15\n",
       "Bushnell Pro X7 Jolt Slope Rangefinder              11\n",
       "SOLE E25 Elliptical                                 10\n",
       "Bowflex SelectTech 1090 Dumbbells                   10\n",
       "Name: Product Name, Length: 118, dtype: int64"
      ]
     },
     "execution_count": 20,
     "metadata": {},
     "output_type": "execute_result"
    }
   ],
   "source": [
    "data['Product Name'].value_counts()"
   ]
  },
  {
   "cell_type": "code",
   "execution_count": 28,
   "metadata": {},
   "outputs": [],
   "source": [
    "nike_product=data[(data['Product Name']=='''Nike Men's CJ Elite 2 TD Football Cleat''') | (data['Product Name']=='''Nike Men's Dri-FIT Victory Golf Polo''')]"
   ]
  },
  {
   "cell_type": "code",
   "execution_count": 40,
   "metadata": {},
   "outputs": [
    {
     "data": {
      "text/plain": [
       "'01-01-2015 00:21'"
      ]
     },
     "execution_count": 40,
     "metadata": {},
     "output_type": "execute_result"
    }
   ],
   "source": [
    "nike_product['order date (DateOrders)'].min()"
   ]
  },
  {
   "cell_type": "markdown",
   "metadata": {},
   "source": [
    "THIS IS A DATE '01-01-2015 00:21' WHERE MINIMUM NIKE ORDERS WERE PLACED"
   ]
  },
  {
   "cell_type": "code",
   "execution_count": 45,
   "metadata": {},
   "outputs": [
    {
     "data": {
      "text/plain": [
       "03-06-2016 20:04    5\n",
       "7/13/2016 0:26      5\n",
       "04-11-2016 21:25    5\n",
       "04-07-2016 20:22    4\n",
       "09-12-2017 15:57    4\n",
       "                   ..\n",
       "7/29/2015 20:54     1\n",
       "12/27/2016 2:50     1\n",
       "11/29/2016 3:34     1\n",
       "01-03-2015 01:02    1\n",
       "02-11-2017 09:25    1\n",
       "Name: order date (DateOrders), Length: 31210, dtype: int64"
      ]
     },
     "execution_count": 45,
     "metadata": {},
     "output_type": "execute_result"
    }
   ],
   "source": [
    "nike_product['order date (DateOrders)'].value_counts()"
   ]
  },
  {
   "cell_type": "code",
   "execution_count": null,
   "metadata": {},
   "outputs": [],
   "source": []
  },
  {
   "cell_type": "code",
   "execution_count": null,
   "metadata": {},
   "outputs": [],
   "source": []
  },
  {
   "cell_type": "code",
   "execution_count": null,
   "metadata": {},
   "outputs": [],
   "source": []
  }
 ],
 "metadata": {
  "kernelspec": {
   "display_name": "Python 3",
   "language": "python",
   "name": "python3"
  },
  "language_info": {
   "codemirror_mode": {
    "name": "ipython",
    "version": 3
   },
   "file_extension": ".py",
   "mimetype": "text/x-python",
   "name": "python",
   "nbconvert_exporter": "python",
   "pygments_lexer": "ipython3",
   "version": "3.8.5"
  }
 },
 "nbformat": 4,
 "nbformat_minor": 4
}
